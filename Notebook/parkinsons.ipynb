{
 "cells": [
  {
   "cell_type": "code",
   "execution_count": 7,
   "id": "2156c081-15f4-4275-8fab-11a395e7512d",
   "metadata": {},
   "outputs": [
    {
     "name": "stdout",
     "output_type": "stream",
     "text": [
      "Accuracy: 94.87%\n"
     ]
    },
    {
     "data": {
      "text/plain": [
       "['../Models/parkinsons_scaler.pkl']"
      ]
     },
     "execution_count": 7,
     "metadata": {},
     "output_type": "execute_result"
    }
   ],
   "source": [
    "import pandas as pd\n",
    "from sklearn.model_selection import train_test_split\n",
    "from sklearn.preprocessing import StandardScaler, OneHotEncoder\n",
    "from sklearn.ensemble import RandomForestClassifier\n",
    "from sklearn.metrics import accuracy_score\n",
    "import joblib\n",
    "\n",
    "# Load the Parkinson's disease dataset\n",
    "df = pd.read_csv('../Datasets/parkinsons.csv')\n",
    "\n",
    "# Remove the 'name' column\n",
    "df = df.drop(columns='name')\n",
    "\n",
    "# Ensure all column names are strings\n",
    "df.columns = df.columns.astype(str)\n",
    "\n",
    "# Split the dataset into features (X) and target (y)\n",
    "X = df.drop(columns='status')\n",
    "y = df['status']\n",
    "\n",
    "# Identify non-numeric columns\n",
    "non_numeric_columns = X.select_dtypes(include=['object']).columns\n",
    "\n",
    "# Handle non-numeric columns using one-hot encoding\n",
    "if non_numeric_columns.any():\n",
    "    encoder = OneHotEncoder()\n",
    "    encoded_columns = pd.DataFrame(encoder.fit_transform(X[non_numeric_columns]).toarray())\n",
    "    \n",
    "    # Drop non-numeric columns and add encoded columns\n",
    "    X = X.drop(non_numeric_columns, axis=1)\n",
    "    X = X.join(encoded_columns)\n",
    "\n",
    "# Split the data into training and testing sets\n",
    "X_train, X_test, y_train, y_test = train_test_split(X, y, test_size=0.2, random_state=42)\n",
    "\n",
    "# Standardize the data\n",
    "scaler = StandardScaler()\n",
    "X_train = scaler.fit_transform(X_train)\n",
    "X_test = scaler.transform(X_test)\n",
    "\n",
    "# Initialize the model\n",
    "model = RandomForestClassifier(n_estimators=100, random_state=42)\n",
    "\n",
    "# Train the model\n",
    "model.fit(X_train, y_train)\n",
    "\n",
    "# Make predictions on the test set\n",
    "y_pred = model.predict(X_test)\n",
    "\n",
    "# Evaluate the model\n",
    "accuracy = accuracy_score(y_test, y_pred)\n",
    "print(f'Accuracy: {accuracy * 100:.2f}%')\n",
    "\n",
    "# Save the model\n",
    "joblib.dump(model, '../Models/parkinsons_model.pkl')\n",
    "\n",
    "joblib.dump(scaler, '../Models/parkinsons_scaler.pkl')  # ✅ Save the scaler separately\n"
   ]
  },
  {
   "cell_type": "code",
   "execution_count": null,
   "id": "725744b2-d6be-48a2-a1fc-52c31db49083",
   "metadata": {},
   "outputs": [],
   "source": []
  },
  {
   "cell_type": "code",
   "execution_count": null,
   "id": "b5839b41-2590-431e-ac01-1bf4203700da",
   "metadata": {},
   "outputs": [],
   "source": []
  }
 ],
 "metadata": {
  "kernelspec": {
   "display_name": "Python 3 (ipykernel)",
   "language": "python",
   "name": "python3"
  },
  "language_info": {
   "codemirror_mode": {
    "name": "ipython",
    "version": 3
   },
   "file_extension": ".py",
   "mimetype": "text/x-python",
   "name": "python",
   "nbconvert_exporter": "python",
   "pygments_lexer": "ipython3",
   "version": "3.12.7"
  }
 },
 "nbformat": 4,
 "nbformat_minor": 5
}
